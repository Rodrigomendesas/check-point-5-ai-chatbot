{
 "cells": [
  {
   "attachments": {},
   "cell_type": "markdown",
   "metadata": {},
   "source": [
    "** Grupo:\n",
    "Luana Sousa Matos - RM552621\n",
    "Matheus de Freitas Silva - RM552602\n",
    "Rodrigo Mendes de Almeida Silva - RM553448"
   ]
  },
  {
   "cell_type": "code",
   "execution_count": 2,
   "metadata": {},
   "outputs": [
    {
     "name": "stdout",
     "output_type": "stream",
     "text": [
      "Requirement already satisfied: matplotlib in c:\\programdata\\miniconda3\\lib\\site-packages (3.8.4)\n",
      "Requirement already satisfied: seaborn in c:\\programdata\\miniconda3\\lib\\site-packages (0.13.2)\n",
      "Requirement already satisfied: scikit-learn in c:\\programdata\\miniconda3\\lib\\site-packages (1.4.2)\n",
      "Requirement already satisfied: pandas in c:\\programdata\\miniconda3\\lib\\site-packages (2.2.2)\n",
      "Requirement already satisfied: contourpy>=1.0.1 in c:\\programdata\\miniconda3\\lib\\site-packages (from matplotlib) (1.2.1)\n",
      "Requirement already satisfied: kiwisolver>=1.3.1 in c:\\programdata\\miniconda3\\lib\\site-packages (from matplotlib) (1.4.5)\n",
      "Requirement already satisfied: python-dateutil>=2.7 in c:\\programdata\\miniconda3\\lib\\site-packages (from matplotlib) (2.9.0)\n",
      "Requirement already satisfied: pyparsing>=2.3.1 in c:\\programdata\\miniconda3\\lib\\site-packages (from matplotlib) (3.1.2)\n",
      "Requirement already satisfied: numpy>=1.21 in c:\\programdata\\miniconda3\\lib\\site-packages (from matplotlib) (1.26.4)\n",
      "Requirement already satisfied: fonttools>=4.22.0 in c:\\programdata\\miniconda3\\lib\\site-packages (from matplotlib) (4.51.0)\n",
      "Requirement already satisfied: packaging>=20.0 in c:\\programdata\\miniconda3\\lib\\site-packages (from matplotlib) (24.0)\n",
      "Requirement already satisfied: importlib-resources>=3.2.0 in c:\\programdata\\miniconda3\\lib\\site-packages (from matplotlib) (6.4.0)\n",
      "Requirement already satisfied: cycler>=0.10 in c:\\programdata\\miniconda3\\lib\\site-packages (from matplotlib) (0.12.1)\n",
      "Requirement already satisfied: pillow>=8 in c:\\programdata\\miniconda3\\lib\\site-packages (from matplotlib) (10.3.0)\n",
      "Requirement already satisfied: threadpoolctl>=2.0.0 in c:\\programdata\\miniconda3\\lib\\site-packages (from scikit-learn) (3.4.0)\n",
      "Requirement already satisfied: joblib>=1.2.0 in c:\\programdata\\miniconda3\\lib\\site-packages (from scikit-learn) (1.4.0)\n",
      "Requirement already satisfied: scipy>=1.6.0 in c:\\programdata\\miniconda3\\lib\\site-packages (from scikit-learn) (1.13.0)\n",
      "Requirement already satisfied: pytz>=2020.1 in c:\\programdata\\miniconda3\\lib\\site-packages (from pandas) (2024.1)\n",
      "Requirement already satisfied: tzdata>=2022.7 in c:\\programdata\\miniconda3\\lib\\site-packages (from pandas) (2024.1)\n",
      "Requirement already satisfied: zipp>=3.1.0 in c:\\programdata\\miniconda3\\lib\\site-packages (from importlib-resources>=3.2.0->matplotlib) (3.17.0)\n",
      "Requirement already satisfied: six>=1.5 in c:\\programdata\\miniconda3\\lib\\site-packages (from python-dateutil>=2.7->matplotlib) (1.16.0)\n"
     ]
    }
   ],
   "source": [
    "!pip install matplotlib seaborn scikit-learn pandas\n"
   ]
  },
  {
   "cell_type": "code",
   "execution_count": 3,
   "metadata": {},
   "outputs": [],
   "source": [
    "import pandas as pd\n",
    "import matplotlib.pyplot as plt\n",
    "import seaborn as sns\n",
    "from sklearn.tree import DecisionTreeClassifier, plot_tree\n",
    "from sklearn.metrics import accuracy_score\n",
    "from sklearn.model_selection import train_test_split"
   ]
  },
  {
   "attachments": {},
   "cell_type": "markdown",
   "metadata": {},
   "source": [
    "Depois de instalar e importar o básico, começamos a tratar os dados. Na verdade, percebemos depois que não usamos tudo que importamos, mas deixamos do jeito que estava. "
   ]
  },
  {
   "cell_type": "code",
   "execution_count": 4,
   "metadata": {},
   "outputs": [
    {
     "name": "stdout",
     "output_type": "stream",
     "text": [
      "<class 'pandas.core.frame.DataFrame'>\n",
      "RangeIndex: 54035 entries, 0 to 54034\n",
      "Data columns (total 11 columns):\n",
      " #   Column                                                  Non-Null Count  Dtype  \n",
      "---  ------                                                  --------------  -----  \n",
      " 0   comestivel                                              52954 non-null  float64\n",
      " 1   diâmetro do chapéu                                      52954 non-null  float64\n",
      " 2   forma do chapéu                                         52954 non-null  float64\n",
      " 3   fixação das lamelas                                     52954 non-null  float64\n",
      " 4   cor das lamelas                                         52954 non-null  float64\n",
      " 5   coluna completamente inutil (me remova)                 52954 non-null  float64\n",
      " 6   altura do caule                                         52954 non-null  float64\n",
      " 7   largura do caule                                        52954 non-null  float64\n",
      " 8   cor do caule                                            52954 non-null  float64\n",
      " 9   coluna de origem duvidosa (use por sua conta em risco)  10573 non-null  float64\n",
      " 10  estação                                                 52954 non-null  float64\n",
      "dtypes: float64(11)\n",
      "memory usage: 4.5 MB\n"
     ]
    }
   ],
   "source": [
    "df = pd.read_csv('cogumelos_MODIFICADO.csv')\n",
    "df.head()\n",
    "df.info()"
   ]
  },
  {
   "attachments": {},
   "cell_type": "markdown",
   "metadata": {},
   "source": [
    "Aqui pegamos os dados, começamos a dar uma olhada no que tínhamos em mãos para entender o volume e a estrutura do csv. "
   ]
  },
  {
   "cell_type": "code",
   "execution_count": 5,
   "metadata": {},
   "outputs": [
    {
     "name": "stdout",
     "output_type": "stream",
     "text": [
      "<class 'pandas.core.frame.DataFrame'>\n",
      "RangeIndex: 54035 entries, 0 to 54034\n",
      "Data columns (total 9 columns):\n",
      " #   Column               Non-Null Count  Dtype  \n",
      "---  ------               --------------  -----  \n",
      " 0   comestivel           52954 non-null  float64\n",
      " 1   diâmetro do chapéu   52954 non-null  float64\n",
      " 2   forma do chapéu      52954 non-null  float64\n",
      " 3   fixação das lamelas  52954 non-null  float64\n",
      " 4   cor das lamelas      52954 non-null  float64\n",
      " 5   altura do caule      52954 non-null  float64\n",
      " 6   largura do caule     52954 non-null  float64\n",
      " 7   cor do caule         52954 non-null  float64\n",
      " 8   estação              52954 non-null  float64\n",
      "dtypes: float64(9)\n",
      "memory usage: 3.7 MB\n"
     ]
    }
   ],
   "source": [
    "df.drop(['coluna completamente inutil (me remova)'], axis=1, inplace=True)\n",
    "df.drop(['coluna de origem duvidosa (use por sua conta em risco)'], axis=1, inplace=True)\n",
    "df.info()"
   ]
  },
  {
   "attachments": {},
   "cell_type": "markdown",
   "metadata": {},
   "source": [
    "Aqui tiramos as colunas obviamente desnecessárias (obrigado professor!)"
   ]
  },
  {
   "cell_type": "code",
   "execution_count": 6,
   "metadata": {},
   "outputs": [
    {
     "name": "stdout",
     "output_type": "stream",
     "text": [
      "<class 'pandas.core.frame.DataFrame'>\n",
      "Index: 45054 entries, 0 to 54034\n",
      "Data columns (total 9 columns):\n",
      " #   Column               Non-Null Count  Dtype  \n",
      "---  ------               --------------  -----  \n",
      " 0   comestivel           45054 non-null  float64\n",
      " 1   diâmetro do chapéu   45054 non-null  float64\n",
      " 2   forma do chapéu      45054 non-null  float64\n",
      " 3   fixação das lamelas  45054 non-null  float64\n",
      " 4   cor das lamelas      45054 non-null  float64\n",
      " 5   altura do caule      45054 non-null  float64\n",
      " 6   largura do caule     45054 non-null  float64\n",
      " 7   cor do caule         45054 non-null  float64\n",
      " 8   estação              45054 non-null  float64\n",
      "dtypes: float64(9)\n",
      "memory usage: 3.4 MB\n"
     ]
    }
   ],
   "source": [
    "df.dropna(inplace=True)\n",
    "df.info()"
   ]
  },
  {
   "attachments": {},
   "cell_type": "markdown",
   "metadata": {},
   "source": [
    "Aqui limpamos as linhas e, por precaução, salvamos os dados em um novo csv."
   ]
  },
  {
   "cell_type": "code",
   "execution_count": 7,
   "metadata": {},
   "outputs": [],
   "source": [
    "df.to_csv('cogumelos_limpo.csv', index=False)"
   ]
  },
  {
   "cell_type": "code",
   "execution_count": 8,
   "metadata": {},
   "outputs": [
    {
     "data": {
      "text/html": [
       "<div>\n",
       "<style scoped>\n",
       "    .dataframe tbody tr th:only-of-type {\n",
       "        vertical-align: middle;\n",
       "    }\n",
       "\n",
       "    .dataframe tbody tr th {\n",
       "        vertical-align: top;\n",
       "    }\n",
       "\n",
       "    .dataframe thead th {\n",
       "        text-align: right;\n",
       "    }\n",
       "</style>\n",
       "<table border=\"1\" class=\"dataframe\">\n",
       "  <thead>\n",
       "    <tr style=\"text-align: right;\">\n",
       "      <th></th>\n",
       "      <th>comestivel</th>\n",
       "      <th>diâmetro do chapéu</th>\n",
       "      <th>forma do chapéu</th>\n",
       "      <th>fixação das lamelas</th>\n",
       "      <th>cor das lamelas</th>\n",
       "      <th>altura do caule</th>\n",
       "      <th>largura do caule</th>\n",
       "      <th>cor do caule</th>\n",
       "      <th>estação</th>\n",
       "    </tr>\n",
       "  </thead>\n",
       "  <tbody>\n",
       "    <tr>\n",
       "      <th>count</th>\n",
       "      <td>45054.000000</td>\n",
       "      <td>45054.000000</td>\n",
       "      <td>45054.000000</td>\n",
       "      <td>45054.000000</td>\n",
       "      <td>45054.000000</td>\n",
       "      <td>45054.000000</td>\n",
       "      <td>45054.000000</td>\n",
       "      <td>45054.000000</td>\n",
       "      <td>45054.000000</td>\n",
       "    </tr>\n",
       "    <tr>\n",
       "      <th>mean</th>\n",
       "      <td>0.549962</td>\n",
       "      <td>685.201447</td>\n",
       "      <td>4.725130</td>\n",
       "      <td>2.921983</td>\n",
       "      <td>7.326919</td>\n",
       "      <td>0.916845</td>\n",
       "      <td>1050.080370</td>\n",
       "      <td>9.453478</td>\n",
       "      <td>1.036515</td>\n",
       "    </tr>\n",
       "    <tr>\n",
       "      <th>std</th>\n",
       "      <td>0.497503</td>\n",
       "      <td>399.185349</td>\n",
       "      <td>2.463306</td>\n",
       "      <td>2.633962</td>\n",
       "      <td>3.202846</td>\n",
       "      <td>0.709776</td>\n",
       "      <td>782.540758</td>\n",
       "      <td>3.791821</td>\n",
       "      <td>0.406139</td>\n",
       "    </tr>\n",
       "    <tr>\n",
       "      <th>min</th>\n",
       "      <td>0.000000</td>\n",
       "      <td>8.000000</td>\n",
       "      <td>0.000000</td>\n",
       "      <td>0.000000</td>\n",
       "      <td>0.000000</td>\n",
       "      <td>0.000426</td>\n",
       "      <td>0.000000</td>\n",
       "      <td>0.000000</td>\n",
       "      <td>0.027372</td>\n",
       "    </tr>\n",
       "    <tr>\n",
       "      <th>25%</th>\n",
       "      <td>0.000000</td>\n",
       "      <td>364.000000</td>\n",
       "      <td>2.000000</td>\n",
       "      <td>1.000000</td>\n",
       "      <td>5.000000</td>\n",
       "      <td>0.341767</td>\n",
       "      <td>418.250000</td>\n",
       "      <td>6.000000</td>\n",
       "      <td>0.888450</td>\n",
       "    </tr>\n",
       "    <tr>\n",
       "      <th>50%</th>\n",
       "      <td>1.000000</td>\n",
       "      <td>650.000000</td>\n",
       "      <td>6.000000</td>\n",
       "      <td>3.000000</td>\n",
       "      <td>8.000000</td>\n",
       "      <td>0.767519</td>\n",
       "      <td>919.000000</td>\n",
       "      <td>11.000000</td>\n",
       "      <td>0.943195</td>\n",
       "    </tr>\n",
       "    <tr>\n",
       "      <th>75%</th>\n",
       "      <td>1.000000</td>\n",
       "      <td>926.750000</td>\n",
       "      <td>6.000000</td>\n",
       "      <td>5.000000</td>\n",
       "      <td>10.000000</td>\n",
       "      <td>1.328557</td>\n",
       "      <td>1523.000000</td>\n",
       "      <td>12.000000</td>\n",
       "      <td>0.943195</td>\n",
       "    </tr>\n",
       "    <tr>\n",
       "      <th>max</th>\n",
       "      <td>1.000000</td>\n",
       "      <td>2505.000000</td>\n",
       "      <td>10.000000</td>\n",
       "      <td>11.000000</td>\n",
       "      <td>11.000000</td>\n",
       "      <td>4.461295</td>\n",
       "      <td>3569.000000</td>\n",
       "      <td>18.000000</td>\n",
       "      <td>2.804273</td>\n",
       "    </tr>\n",
       "  </tbody>\n",
       "</table>\n",
       "</div>"
      ],
      "text/plain": [
       "         comestivel  diâmetro do chapéu  forma do chapéu  fixação das lamelas  \\\n",
       "count  45054.000000        45054.000000     45054.000000         45054.000000   \n",
       "mean       0.549962          685.201447         4.725130             2.921983   \n",
       "std        0.497503          399.185349         2.463306             2.633962   \n",
       "min        0.000000            8.000000         0.000000             0.000000   \n",
       "25%        0.000000          364.000000         2.000000             1.000000   \n",
       "50%        1.000000          650.000000         6.000000             3.000000   \n",
       "75%        1.000000          926.750000         6.000000             5.000000   \n",
       "max        1.000000         2505.000000        10.000000            11.000000   \n",
       "\n",
       "       cor das lamelas  altura do caule  largura do caule  cor do caule  \\\n",
       "count     45054.000000     45054.000000      45054.000000  45054.000000   \n",
       "mean          7.326919         0.916845       1050.080370      9.453478   \n",
       "std           3.202846         0.709776        782.540758      3.791821   \n",
       "min           0.000000         0.000426          0.000000      0.000000   \n",
       "25%           5.000000         0.341767        418.250000      6.000000   \n",
       "50%           8.000000         0.767519        919.000000     11.000000   \n",
       "75%          10.000000         1.328557       1523.000000     12.000000   \n",
       "max          11.000000         4.461295       3569.000000     18.000000   \n",
       "\n",
       "            estação  \n",
       "count  45054.000000  \n",
       "mean       1.036515  \n",
       "std        0.406139  \n",
       "min        0.027372  \n",
       "25%        0.888450  \n",
       "50%        0.943195  \n",
       "75%        0.943195  \n",
       "max        2.804273  "
      ]
     },
     "execution_count": 8,
     "metadata": {},
     "output_type": "execute_result"
    }
   ],
   "source": [
    "df.describe()"
   ]
  },
  {
   "cell_type": "code",
   "execution_count": 9,
   "metadata": {},
   "outputs": [
    {
     "data": {
      "text/plain": [
       "comestivel                2\n",
       "diâmetro do chapéu     2032\n",
       "forma do chapéu          11\n",
       "fixação das lamelas      12\n",
       "cor das lamelas          12\n",
       "altura do caule        2358\n",
       "largura do caule       3469\n",
       "cor do caule             19\n",
       "estação                   8\n",
       "dtype: int64"
      ]
     },
     "execution_count": 9,
     "metadata": {},
     "output_type": "execute_result"
    }
   ],
   "source": [
    "df.nunique()"
   ]
  },
  {
   "attachments": {},
   "cell_type": "markdown",
   "metadata": {},
   "source": [
    "Hora de dar uma olhada nos dados limpos e, ainda, contar os dados não únicos de cada coluna - aí entendemos melhor a estrutura. "
   ]
  },
  {
   "cell_type": "code",
   "execution_count": 15,
   "metadata": {},
   "outputs": [],
   "source": [
    "x = df.drop(\"comestivel\", axis=1)\n",
    "y = df[\"comestivel\"]"
   ]
  },
  {
   "attachments": {},
   "cell_type": "markdown",
   "metadata": {},
   "source": [
    "Aqui separamos o resultado dos dados em X e Y."
   ]
  },
  {
   "cell_type": "code",
   "execution_count": 18,
   "metadata": {},
   "outputs": [],
   "source": [
    "x_train, x_test, y_train, y_test = train_test_split(x, y, test_size=0.20, random_state=42)"
   ]
  },
  {
   "cell_type": "code",
   "execution_count": 29,
   "metadata": {},
   "outputs": [
    {
     "data": {
      "text/plain": [
       "0.9542781045388969"
      ]
     },
     "execution_count": 29,
     "metadata": {},
     "output_type": "execute_result"
    }
   ],
   "source": [
    "sabidinho = DecisionTreeClassifier()\n",
    "sabidinho.fit(x_train, y_train)\n",
    "sabidinho.score(x_test, y_test)"
   ]
  },
  {
   "attachments": {},
   "cell_type": "markdown",
   "metadata": {},
   "source": [
    "Então usamos o modelo Decision Tree Classifier, inicialmente, onde conseguimos uma acurácia de cerca de 95%, ainda insuficiente."
   ]
  },
  {
   "cell_type": "code",
   "execution_count": 30,
   "metadata": {},
   "outputs": [
    {
     "data": {
      "text/plain": [
       "0.9806902674508934"
      ]
     },
     "execution_count": 30,
     "metadata": {},
     "output_type": "execute_result"
    }
   ],
   "source": [
    "from sklearn.ensemble import RandomForestClassifier\n",
    "sabiducho = RandomForestClassifier()\n",
    "sabiducho.fit(x_train, y_train)\n",
    "sabiducho.score(x_test, y_test)"
   ]
  },
  {
   "attachments": {},
   "cell_type": "markdown",
   "metadata": {},
   "source": [
    "A partir daí usamos o modelo Random Forest Classifier, que nos deu uma acurácia de 98%, suficiente para o objetivo de acurácia mínima. "
   ]
  }
 ],
 "metadata": {
  "kernelspec": {
   "display_name": "base",
   "language": "python",
   "name": "python3"
  },
  "language_info": {
   "codemirror_mode": {
    "name": "ipython",
    "version": 3
   },
   "file_extension": ".py",
   "mimetype": "text/x-python",
   "name": "python",
   "nbconvert_exporter": "python",
   "pygments_lexer": "ipython3",
   "version": "3.9.12"
  },
  "orig_nbformat": 4
 },
 "nbformat": 4,
 "nbformat_minor": 2
}
